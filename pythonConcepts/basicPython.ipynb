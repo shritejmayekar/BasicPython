{
 "metadata": {
  "language_info": {
   "codemirror_mode": {
    "name": "ipython",
    "version": 3
   },
   "file_extension": ".py",
   "mimetype": "text/x-python",
   "name": "python",
   "nbconvert_exporter": "python",
   "pygments_lexer": "ipython3",
   "version": "3.8.10"
  },
  "orig_nbformat": 2,
  "kernelspec": {
   "name": "python3810jvsc74a57bd0f49eabc1aaa301a08d014e3fc725610ec6daed3aa1f98bed398c21383fe4c98a",
   "display_name": "Python 3.8.10 64-bit (windows store)"
  },
  "metadata": {
   "interpreter": {
    "hash": "f49eabc1aaa301a08d014e3fc725610ec6daed3aa1f98bed398c21383fe4c98a"
   }
  }
 },
 "nbformat": 4,
 "nbformat_minor": 2,
 "cells": [
  {
   "cell_type": "code",
   "execution_count": 12,
   "metadata": {},
   "outputs": [
    {
     "output_type": "stream",
     "name": "stdout",
     "text": [
      "John\nJames\n"
     ]
    }
   ],
   "source": [
    "# String liters\n",
    "name1=\"John\"\n",
    "name2='James'\n",
    "print(name1)\n",
    "print(name2)\n",
    "\n",
    "# Numeric literals\n",
    "num1=56 # int literal\n",
    "num2=25.5 # float literal\n",
    "num3=25 # Long literal\n",
    "num4=1+3.14j    # complex\n",
    "\n",
    "# Special Literals\n",
    "isActive=True\n",
    "isSundary=False"
   ]
  },
  {
   "cell_type": "code",
   "execution_count": 15,
   "metadata": {},
   "outputs": [
    {
     "output_type": "stream",
     "name": "stdout",
     "text": [
      "dict_keys(['Fruit_Names'])\ndict_values([{'mango', 'banana', 'apple', 'jackfruit'}])\n"
     ]
    }
   ],
   "source": [
    "# My Dictionary\n",
    "\n",
    "myDictionary={'Fruit_Names':{'mango','apple','banana','jackfruit'}}\n",
    "print(myDictionary.keys())\n",
    "print(myDictionary.values())\n",
    "\n"
   ]
  },
  {
   "cell_type": "code",
   "execution_count": null,
   "metadata": {},
   "outputs": [],
   "source": []
  }
 ]
}