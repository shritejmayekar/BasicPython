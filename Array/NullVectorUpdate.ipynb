{
 "metadata": {
  "language_info": {
   "codemirror_mode": {
    "name": "ipython",
    "version": 3
   },
   "file_extension": ".py",
   "mimetype": "text/x-python",
   "name": "python",
   "nbconvert_exporter": "python",
   "pygments_lexer": "ipython3",
   "version": "3.8.8-final"
  },
  "orig_nbformat": 2,
  "kernelspec": {
   "name": "python3",
   "display_name": "Python 3.8.8 64-bit",
   "metadata": {
    "interpreter": {
     "hash": "e143974185646a7597d1e9e3b6f33039f15442649f7a56eba23e7ed573c52d50"
    }
   }
  }
 },
 "nbformat": 4,
 "nbformat_minor": 2,
 "cells": [
  {
   "cell_type": "code",
   "execution_count": 4,
   "metadata": {},
   "outputs": [
    {
     "output_type": "stream",
     "name": "stdout",
     "text": [
      "Null Matrix [0. 0. 0. 0. 0. 0. 0. 0. 0. 0.]\nUpdating 6th value to 11\nModified Matrix [ 0.  0.  0.  0.  0.  0. 11.  0.  0.  0.]\n"
     ]
    }
   ],
   "source": [
    "import numpy as np\n",
    "class NullVectorUpdate:\n",
    "    def updateNullVector(self):\n",
    "        createNullMatrix = np.zeros(10)\n",
    "        print(\"Null Matrix\",createNullMatrix)\n",
    "        print(\"Updating 6th value to 11\")\n",
    "        createNullMatrix[6] = 11\n",
    "        print(\"Modified Matrix\",createNullMatrix)\n",
    "if __name__ == \"__main__\":\n",
    "    nullVector = NullVectorUpdate()\n",
    "    nullVector.updateNullVector()\n"
   ]
  },
  {
   "cell_type": "code",
   "execution_count": null,
   "metadata": {},
   "outputs": [],
   "source": []
  }
 ]
}