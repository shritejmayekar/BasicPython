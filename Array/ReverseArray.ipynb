{
 "metadata": {
  "language_info": {
   "codemirror_mode": {
    "name": "ipython",
    "version": 3
   },
   "file_extension": ".py",
   "mimetype": "text/x-python",
   "name": "python",
   "nbconvert_exporter": "python",
   "pygments_lexer": "ipython3",
   "version": "3.8.8-final"
  },
  "orig_nbformat": 2,
  "kernelspec": {
   "name": "python3",
   "display_name": "Python 3.8.8 64-bit",
   "metadata": {
    "interpreter": {
     "hash": "e143974185646a7597d1e9e3b6f33039f15442649f7a56eba23e7ed573c52d50"
    }
   }
  }
 },
 "nbformat": 4,
 "nbformat_minor": 2,
 "cells": [
  {
   "cell_type": "code",
   "execution_count": 1,
   "metadata": {},
   "outputs": [
    {
     "output_type": "stream",
     "name": "stdout",
     "text": [
      "Original Array [12 13 14 15 16 17 18 19 20 21 22 23 24 25 26 27 28 29 30 31 32 33 34 35\n 36 37]\nReversed Array [37 36 35 34 33 32 31 30 29 28 27 26 25 24 23 22 21 20 19 18 17 16 15 14\n 13 12]\n"
     ]
    }
   ],
   "source": [
    "import numpy as np\n",
    "class ReverseArray:\n",
    "    def reverseArray(self):\n",
    "        originalArray = np.arange(12,38)\n",
    "        print(\"Original Array\",originalArray)\n",
    "        reverseArray = originalArray[::-1]\n",
    "        print(\"Reversed Array\",reverseArray)\n",
    "\n",
    "if __name__ == \"__main__\":\n",
    "    reverse = ReverseArray()\n",
    "    reverse.reverseArray()"
   ]
  },
  {
   "cell_type": "code",
   "execution_count": null,
   "metadata": {},
   "outputs": [],
   "source": []
  }
 ]
}