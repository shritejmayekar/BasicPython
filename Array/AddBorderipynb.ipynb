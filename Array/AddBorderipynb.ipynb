{
 "metadata": {
  "language_info": {
   "codemirror_mode": {
    "name": "ipython",
    "version": 3
   },
   "file_extension": ".py",
   "mimetype": "text/x-python",
   "name": "python",
   "nbconvert_exporter": "python",
   "pygments_lexer": "ipython3",
   "version": "3.8.8-final"
  },
  "orig_nbformat": 2,
  "kernelspec": {
   "name": "python3",
   "display_name": "Python 3.8.8 64-bit",
   "metadata": {
    "interpreter": {
     "hash": "e143974185646a7597d1e9e3b6f33039f15442649f7a56eba23e7ed573c52d50"
    }
   }
  }
 },
 "nbformat": 4,
 "nbformat_minor": 2,
 "cells": [
  {
   "cell_type": "code",
   "execution_count": 3,
   "metadata": {},
   "outputs": [],
   "source": [
    "import numpy as np \n"
   ]
  },
  {
   "cell_type": "code",
   "execution_count": 4,
   "metadata": {},
   "outputs": [
    {
     "output_type": "stream",
     "name": "stdout",
     "text": [
      "Original array is :\n [[1. 1. 1.]\n [1. 1. 1.]\n [1. 1. 1.]]\nUpdated array by add the border filled with 0 is :\n [[0. 0. 0. 0. 0.]\n [0. 1. 1. 1. 0.]\n [0. 1. 1. 1. 0.]\n [0. 1. 1. 1. 0.]\n [0. 0. 0. 0. 0.]]\n"
     ]
    }
   ],
   "source": [
    "class AddBorder:\n",
    "    \n",
    "    def add_border_with_zeros(self):\n",
    "        \"\"\"\n",
    "        function to add a border (filled with 0's)\n",
    "        around an existing array\n",
    "        \"\"\"\n",
    "        original = np.ones((3, 3))  # creating a 3*3 matrix with 1\n",
    "        print(\"Original array is :\\n\", original)   \n",
    "        original = np.pad(original, pad_width=1, mode='constant', constant_values=0) # add border of 0 around 3*3 matrix of 1\n",
    "        print(\"Updated array by add the border filled with 0 is :\\n\", original) \n",
    "\n",
    "if __name__ == \"__main__\":\n",
    "    BorderAdd = AddBorder()\n",
    "    BorderAdd.add_border_with_zeros()"
   ]
  },
  {
   "cell_type": "code",
   "execution_count": null,
   "metadata": {},
   "outputs": [],
   "source": []
  }
 ]
}