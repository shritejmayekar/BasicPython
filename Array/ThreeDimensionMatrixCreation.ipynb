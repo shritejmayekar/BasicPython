{
 "metadata": {
  "language_info": {
   "codemirror_mode": {
    "name": "ipython",
    "version": 3
   },
   "file_extension": ".py",
   "mimetype": "text/x-python",
   "name": "python",
   "nbconvert_exporter": "python",
   "pygments_lexer": "ipython3",
   "version": "3.8.8-final"
  },
  "orig_nbformat": 2,
  "kernelspec": {
   "name": "python3",
   "display_name": "Python 3.8.8 64-bit",
   "metadata": {
    "interpreter": {
     "hash": "e143974185646a7597d1e9e3b6f33039f15442649f7a56eba23e7ed573c52d50"
    }
   }
  }
 },
 "nbformat": 4,
 "nbformat_minor": 2,
 "cells": [
  {
   "cell_type": "code",
   "execution_count": 1,
   "metadata": {},
   "outputs": [],
   "source": [
    "import numpy as np"
   ]
  },
  {
   "cell_type": "code",
   "execution_count": 13,
   "metadata": {},
   "outputs": [
    {
     "output_type": "stream",
     "name": "stdout",
     "text": [
      "Matrix [[ 2  3  4]\n [ 5  6  7]\n [ 8  9 10]]\n"
     ]
    }
   ],
   "source": [
    "class ThreeDimensionMatrix:\n",
    "\n",
    "    def createMatrix(self):\n",
    "        matrix = np.arange(2,11).reshape(3,3)\n",
    "\n",
    "        print(\"Matrix\",matrix)\n",
    "if __name__ == \"__main__\":\n",
    "    creationMatrix = ThreeDimensionMatrix()\n",
    "    creationMatrix.createMatrix()"
   ]
  },
  {
   "cell_type": "code",
   "execution_count": null,
   "metadata": {},
   "outputs": [],
   "source": []
  }
 ]
}