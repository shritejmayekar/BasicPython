{
 "metadata": {
  "language_info": {
   "codemirror_mode": {
    "name": "ipython",
    "version": 3
   },
   "file_extension": ".py",
   "mimetype": "text/x-python",
   "name": "python",
   "nbconvert_exporter": "python",
   "pygments_lexer": "ipython3",
   "version": "3.8.8-final"
  },
  "orig_nbformat": 2,
  "kernelspec": {
   "name": "python3",
   "display_name": "Python 3.8.8 64-bit",
   "metadata": {
    "interpreter": {
     "hash": "e143974185646a7597d1e9e3b6f33039f15442649f7a56eba23e7ed573c52d50"
    }
   }
  }
 },
 "nbformat": 4,
 "nbformat_minor": 2,
 "cells": [
  {
   "cell_type": "code",
   "execution_count": 8,
   "metadata": {},
   "outputs": [
    {
     "output_type": "stream",
     "name": "stdout",
     "text": [
      "Numpy Array [ 12.23      66.       688.366666  13.32     100.        36.32    ]\n"
     ]
    }
   ],
   "source": [
    "import numpy as np\n",
    "class ConvertToNumpy:\n",
    "    def  convertToNpArray(self):\n",
    "        myList =  [12.23,66,688.366666, 13.32, 100, 36.32]\n",
    "        npArray = np.array(myList)\n",
    "        print(\"Numpy Array\",npArray)\n",
    "\n",
    "if __name__ == \"__main__\":\n",
    "    convToList = ConvertToNumpy()\n",
    "    convToList.convertToNpArray()"
   ]
  },
  {
   "cell_type": "code",
   "execution_count": null,
   "metadata": {},
   "outputs": [],
   "source": []
  }
 ]
}